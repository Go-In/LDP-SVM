{
 "cells": [
  {
   "cell_type": "code",
   "execution_count": 1,
   "metadata": {},
   "outputs": [],
   "source": [
    "from skimage.io import imread\n",
    "from skimage.filters import threshold_otsu\n",
    "from skimage.transform import resize\n",
    "from skimage import measure\n",
    "from skimage.measure import regionprops\n",
    "from sklearn.svm import SVC\n",
    "from sklearn.model_selection import cross_val_score\n",
    "from sklearn.externals import joblib\n",
    "\n",
    "import matplotlib.patches as patches\n",
    "import matplotlib.pyplot as plt\n",
    "import os\n",
    "import numpy as np"
   ]
  },
  {
   "cell_type": "code",
   "execution_count": 20,
   "metadata": {},
   "outputs": [],
   "source": [
    "def input_image(img_dir):\n",
    "#     true_value = img_dir.split['.'][0] \n",
    "    print(img_dir)\n",
    "    \n",
    "    car_image = imread(img_dir, as_grey=True)\n",
    "    gray_car_image = car_image * 255\n",
    "    fig, (ax1, ax2) = plt.subplots(1, 2)\n",
    "    ax1.imshow(gray_car_image, cmap=\"gray\")\n",
    "    threshold_value = threshold_otsu(gray_car_image)\n",
    "    binary_car_image = gray_car_image > threshold_value\n",
    "    \n",
    "    # this gets all the connected regions and groups them together\n",
    "    label_image = measure.label(binary_car_image)\n",
    "\n",
    "    # regionprops creates a list of properties of all the labelled regions\n",
    "    for region in regionprops(label_image):\n",
    "        if region.area < 50:\n",
    "            #if the region is so small then it's likely not a license plate\n",
    "            continue\n",
    "\n",
    "        # the bounding box coordinates\n",
    "        minRow, minCol, maxRow, maxCol = region.bbox\n",
    "        rectBorder = patches.Rectangle((minCol, minRow), maxCol-minCol, maxRow-minRow, edgecolor=\"red\", linewidth=2, fill=False)\n",
    "\n",
    "    # this gets all the connected regions and groups them together\n",
    "    label_image = measure.label(binary_car_image)\n",
    "\n",
    "    # getting the maximum width, height and minimum width and height that a license plate can be\n",
    "    plate_dimensions = (0.05*label_image.shape[0], 0.3*label_image.shape[0], 0.1*label_image.shape[1], 0.4*label_image.shape[1])\n",
    "    min_height, max_height, min_width, max_width = plate_dimensions\n",
    "    plate_objects_cordinates = []\n",
    "    plate_like_objects = []\n",
    "\n",
    "    plate_like_objects.append(binary_car_image[:,:])\n",
    "\n",
    "    # regionprops creates a list of properties of all the labelled regions\n",
    "    for region in regionprops(label_image):\n",
    "        if region.area < 50:\n",
    "            #if the region is so small then it's likely not a license plate\n",
    "            continue\n",
    "\n",
    "        # the bounding box coordinates\n",
    "        min_row, min_col, max_row, max_col = region.bbox\n",
    "        region_height = max_row - min_row\n",
    "        region_width = max_col - min_col\n",
    "        # ensuring that the region identified satisfies the condition of a typical license plate\n",
    "        if region_height >= min_height and region_height <= max_height and region_width >= min_width and region_width <= max_width and region_width > region_height:\n",
    "            plate_like_objects.append(binary_car_image[min_row:max_row,\n",
    "                                      min_col:max_col])\n",
    "            plate_objects_cordinates.append((min_row, min_col,\n",
    "                                                  max_row, max_col))\n",
    "            rectBorder = patches.Rectangle((min_col, min_row), max_col-min_col, max_row-min_row, edgecolor=\"red\", linewidth=2, fill=False)\n",
    "#             print(rectBorder)\n",
    "\n",
    "    characters = []\n",
    "    column_list = []\n",
    "    \n",
    "    for each_plate in plate_like_objects:\n",
    "        license_plate = np.invert(each_plate)\n",
    "\n",
    "        labelled_plate = measure.label(license_plate)\n",
    "\n",
    "        fig, ax1 = plt.subplots(1)\n",
    "        ax1.imshow(license_plate, cmap=\"gray\")\n",
    "\n",
    "        character_dimensions = (0.35*license_plate.shape[0], 0.60*license_plate.shape[0], 0.05*license_plate.shape[1], 0.15*license_plate.shape[1])\n",
    "        min_height, max_height, min_width, max_width = character_dimensions\n",
    "\n",
    "        characters = []\n",
    "        counter=0\n",
    "        column_list = []\n",
    "        for regions in regionprops(labelled_plate):\n",
    "            y0, x0, y1, x1 = regions.bbox\n",
    "            region_height = y1 - y0\n",
    "            region_width = x1 - x0\n",
    "\n",
    "            if region_height > min_height and region_height < max_height and region_width > min_width and region_width < max_width:\n",
    "                roi = license_plate[y0:y1, x0:x1]\n",
    "\n",
    "                # draw a red bordered rectangle over the character.\n",
    "                rect_border = patches.Rectangle((x0, y0), x1 - x0, y1 - y0, edgecolor=\"red\",\n",
    "                                               linewidth=2, fill=False)\n",
    "                ax1.add_patch(rect_border)\n",
    "\n",
    "                # resize the characters to 20X20 and then append each character into the characters list\n",
    "                resized_char = resize(roi, (44, 90),mode='edge')\n",
    "                resized_char = resized_char < threshold_otsu(resized_char)\n",
    "                characters.append(resized_char)\n",
    "                # this is just to keep track of the arrangement of the characters\n",
    "                column_list.append(x0)\n",
    "                counter += 1\n",
    "        if counter >= 3:\n",
    "            break\n",
    "    \n",
    "    return characters, column_list"
   ]
  },
  {
   "cell_type": "code",
   "execution_count": null,
   "metadata": {},
   "outputs": [],
   "source": []
  },
  {
   "cell_type": "code",
   "execution_count": 21,
   "metadata": {},
   "outputs": [],
   "source": [
    "# load the model\n",
    "current_dir = os.getcwd()\n",
    "model_dir = os.path.join(current_dir, 'models/svc/svc.pkl')\n",
    "model = joblib.load(model_dir)"
   ]
  },
  {
   "cell_type": "code",
   "execution_count": 25,
   "metadata": {},
   "outputs": [
    {
     "name": "stdout",
     "output_type": "stream",
     "text": [
      "C:\\Users\\rockin\\Svm\\plate\\test_plate\\กฌ7252.png\n",
      "True text: กฌ7252\n",
      "Predict text: กฌ7252\n"
     ]
    },
    {
     "data": {
      "image/png": "[encoded data removed]",
      "text/plain": [
       "<Figure size 432x288 with 2 Axes>"
      ]
     },
     "metadata": {},
     "output_type": "display_data"
    },
    {
     "data": {
      "image/png": "[encoded data removed]",
      "text/plain": [
       "<Figure size 432x288 with 1 Axes>"
      ]
     },
     "metadata": {},
     "output_type": "display_data"
    }
   ],
   "source": [
    "test_data_filename = os.listdir(os.getcwd()+'\\\\plate\\\\test_plate')\n",
    "\n",
    "text_score = 0\n",
    "char_score = 0\n",
    "total_data = len(test_data_filename)\n",
    "file = test_data_filename[14]\n",
    "\n",
    "# # for file in test_data_filename:\n",
    "# # test_data_path = os.getcwd() + '\\\\plate\\\\test_plate\\\\' + file\n",
    "test_data_path = os.getcwd() + '\\\\plate\\\\test_plate\\\\' + file\n",
    "\n",
    "true_string = file.split('.')[0]\n",
    "characters, column_list = input_image(test_data_path)\n",
    "\n",
    "classification_result = []\n",
    "for each_character in characters:\n",
    "    # converts it to a 1D array\n",
    "    each_character = each_character.reshape(1, -1);\n",
    "    result = model.predict(each_character)\n",
    "    classification_result.append(result)\n",
    "\n",
    "# print(classification_result)\n",
    "\n",
    "plate_string = ''\n",
    "for eachPredict in classification_result:\n",
    "    plate_string += eachPredict[0]\n",
    "\n",
    "# print(plate_string)\n",
    "\n",
    "column_list_copy = column_list[:]\n",
    "# #     print(column_list)\n",
    "column_list.sort()\n",
    "rightplate_string = ''\n",
    "for each in column_list:\n",
    "    rightplate_string += plate_string[column_list_copy.index(each)]\n",
    "\n",
    "# print(rightplate_string) \n",
    "\n",
    "print(\"True text: \" + true_string)\n",
    "print(\"Predict text: \" + rightplate_string)\n",
    "\n",
    "# if rightplate_string == true_string:\n",
    "#     text_score += 1\n",
    "\n",
    "# for x, y in zip(true_string, rightplate_string):\n",
    "#     if x == y:\n",
    "#         char_score += 1 / len(true_string)\n",
    "# text_score = (text_score/total_data) * 100\n",
    "# char_score = (char_score/total_data) * 100\n",
    "\n",
    "# print(\"Text score: \" + str(text_score))\n",
    "# print(\"Char score: \" + str(char_score))\n",
    "    "
   ]
  },
  {
   "cell_type": "code",
   "execution_count": 79,
   "metadata": {},
   "outputs": [
    {
     "data": {
      "text/plain": [
       "5"
      ]
     },
     "execution_count": 79,
     "metadata": {},
     "output_type": "execute_result"
    }
   ],
   "source": [
    "len(\"hello\")"
   ]
  },
  {
   "cell_type": "code",
   "execution_count": null,
   "metadata": {},
   "outputs": [],
   "source": []
  }
 ],
 "metadata": {
  "kernelspec": {
   "display_name": "Python [conda env:svm]",
   "language": "python",
   "name": "conda-env-svm-py"
  },
  "language_info": {
   "codemirror_mode": {
    "name": "ipython",
    "version": 3
   },
   "file_extension": ".py",
   "mimetype": "text/x-python",
   "name": "python",
   "nbconvert_exporter": "python",
   "pygments_lexer": "ipython3",
   "version": "3.6.5"
  }
 },
 "nbformat": 4,
 "nbformat_minor": 2
}
